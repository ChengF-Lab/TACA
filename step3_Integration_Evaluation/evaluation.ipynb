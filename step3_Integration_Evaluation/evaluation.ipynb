{
 "cells": [
  {
   "cell_type": "code",
   "execution_count": null,
   "metadata": {},
   "outputs": [],
   "source": [
    "import anndata as ad\n",
    "import sys\n",
    "sys.path.insert(0, '../')\n",
    "from utils.utils import evaluation, create_directory, setup_logger"
   ]
  },
  {
   "cell_type": "markdown",
   "metadata": {},
   "source": [
    "# __Setup Variables__\n",
    "\n",
    "⭐ <u>dir_adata</u>: directory of AnnData object to be evaluated;<br>\n",
    "⭐ <u>ref_label</u>: column name in integrated AnnData that denotes cell type annotations from references; <br>\n",
    "⭐ <u>prediction_key</u>: column name in integrated AnnData that denotes cell type annotations from predictions ;<br>\n",
    "⭐ <u>dataset_key</u>: column name in integrated AnnData that denotes dataset;<br>\n",
    "⭐ <u>level</u>: cell type resolution level; e.g., level = 1 indicates all cell types, level = 2 indicates cell type subtypes, like Neuron subtypes, etc.;<br>\n",
    "⭐ <u>celltype</u>: celltype AnnData to be evaluation;<br>\n",
    "⭐ <u>dir_evaluation</u>: directory to save evaluation results;<br>\n",
    "⭐ <u>use_meta</u>: whether do evaluation according to additional meta information;<br>\n",
    "⭐ <u>meta_cols</u>: types of meta information to be considered, meta_col by default include dataset_key, i.e., evalute performance for each dataset with original cell type annotation;<br>"
   ]
  },
  {
   "cell_type": "code",
   "execution_count": null,
   "metadata": {},
   "outputs": [],
   "source": [
    "dir_adata = '../data/example_adata.h5ad'\n",
    "ref_label = 'Super_Celltype'\n",
    "prediction_key = 'C_scANVI'\n",
    "dataset_key = 'Dataset'\n",
    "level = 1\n",
    "celltype = 'All'\n",
    "dir_evaluation = f'../output_test/Level{level}'\n",
    "use_meta = False\n",
    "meta_cols = [dataset_key] if use_meta == False else [dataset_key, 'Sex', 'BrainRegion'] # example"
   ]
  },
  {
   "cell_type": "code",
   "execution_count": null,
   "metadata": {},
   "outputs": [],
   "source": [
    "logger = setup_logger(name = \"TACA\", \n",
    "                    log_file = f'{celltype}.log',\n",
    "                    log_dir = f'../output_test/Level{level}')\n",
    "\n",
    "create_directory(dir_evaluation)"
   ]
  },
  {
   "cell_type": "markdown",
   "metadata": {},
   "source": [
    "### __Cell Type Annotation Evaluation__\n",
    "\n",
    "- Evaluate cell type annotations by comparing consistencies between predictions and reference labels (for semi-supervised model only)"
   ]
  },
  {
   "cell_type": "code",
   "execution_count": null,
   "metadata": {},
   "outputs": [],
   "source": [
    "\n",
    "evaluation(\n",
    "    dir_adata = dir_adata,\n",
    "    ref_label = ref_label,\n",
    "    prediction_key = prediction_key,\n",
    "    level = 1,\n",
    "    meta_cols = meta_cols,\n",
    "    dir_evaluation = dir_evaluation\n",
    ")"
   ]
  }
 ],
 "metadata": {
  "language_info": {
   "name": "python"
  },
  "orig_nbformat": 4
 },
 "nbformat": 4,
 "nbformat_minor": 2
}

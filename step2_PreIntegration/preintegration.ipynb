{
 "cells": [
  {
   "cell_type": "code",
   "execution_count": null,
   "metadata": {},
   "outputs": [],
   "source": [
    "import os\n",
    "import sys\n",
    "sys.path.insert(0, '../')\n",
    "from utils.constants import GENE_SELECT_INTERSECTION, GENE_SELECT_UNION, GENE_SELECT_PROTEIN_CODING\n",
    "from utils.utils import setup_logger, merge_datasets, load_protein_coding_genes, create_directory"
   ]
  },
  {
   "cell_type": "markdown",
   "metadata": {},
   "source": [
    "# __Setup Variables & Constants__\n",
    "\n",
    "⭐ <u>dir_datasets</u>: directory of all datasets;<br>\n",
    "⭐ <u>dir_integration</u>: directory to save AnnData that represents merged datasets;<br>\n",
    "⭐ <u>dir_data</u>: directory of auxiliary files;<br>\n",
    "\n",
    "⭐ <u>ref_label</u>: column name in integrated AnnData that denotes cell type; <br>\n",
    "⭐ <u>cell_type_key</u>: cell type key for each independent dataset;<br>\n",
    "⭐ <u>dataset_key</u>: column name in integrated AnnData that denotes dataset;<br>\n",
    "⭐ <u>sampleid_key</u>: column name in integrated AnnData that denotes sample ID;<br>\n",
    "⭐ <u>batch_key</u>: column name in integrated AnnData that denotes batch ID;<br>\n",
    "⭐ <u>kept_genes</u>: rules for gene selection when merging different datasets;<br>\n",
    "⭐ <u>GENE_SELECT_PROTEIN_CODING</u>: when merging multiple datasets, keep all protein coding genes that are sequenced by at least one dataset;<br>\n",
    "⭐ <u>GENE_SELECT_PROTEIN_GENE_SELECT_INTERSECTION</u>: when merging multiple datasets, keep only common genes sequenced by all datasets merged;<br>\n",
    "⭐ <u>GENE_SELECT_PROTEIN_GENE_SELECT_UNION</u>: when merging multiple datasets, keep all genes that are sequenced by at least one dataset;<br>\n",
    "\n",
    "\n",
    "⭐ <u>add_meta</u>: boolean variable, whether or not add meta information; <br>\n",
    "⭐ <u>meta_cols</u>: types of meta information to be added;<br>\n"
   ]
  },
  {
   "cell_type": "code",
   "execution_count": null,
   "metadata": {},
   "outputs": [],
   "source": [
    "dir_datasets = '../test_Data'\n",
    "dir_integration = '../test_Data'\n",
    "dir_data = '../data'\n",
    "\n",
    "ref_label = 'Super_Celltype'\n",
    "cell_type_key = 'cell_type'\n",
    "dataset_key = 'Dataset'\n",
    "sampleid_key = 'SampleID'\n",
    "batch_key = 'BatchID'\n",
    "kept_genes = GENE_SELECT_PROTEIN_CODING\n",
    "assert kept_genes in [GENE_SELECT_PROTEIN_CODING, GENE_SELECT_INTERSECTION, GENE_SELECT_UNION]\n",
    "\n",
    "add_meta = True\n",
    "meta_cols = ['Sex', 'BrainRegion', 'Assay']\n"
   ]
  },
  {
   "cell_type": "code",
   "execution_count": null,
   "metadata": {},
   "outputs": [],
   "source": [
    "# setup logger\n",
    "logger = setup_logger(name = \"TACA\", \n",
    "                    log_file = 'preintegration.log',\n",
    "                    log_dir = '../output_test/')"
   ]
  },
  {
   "cell_type": "code",
   "execution_count": null,
   "metadata": {},
   "outputs": [],
   "source": [
    "all_ds = [name for name in os.listdir(dir_datasets) if os.path.isdir(os.path.join(dir_datasets, name))]\n",
    "logger.info('There are {:,} datasets used for integration.'.format(len(all_ds)))"
   ]
  },
  {
   "cell_type": "code",
   "execution_count": null,
   "metadata": {},
   "outputs": [],
   "source": [
    "# Load protein coding genes\n",
    "protein_coding_genes = set(load_protein_coding_genes(dir_file = os.path.join(dir_data, 'protein_coding_genes.tsv')))\n",
    "logger.info('There are totally {:,} protein coding genes.'.format(len(protein_coding_genes)))"
   ]
  },
  {
   "cell_type": "markdown",
   "metadata": {},
   "source": [
    "## __Merge Datasets for All CellTypes__\n",
    "- Import references cell type annotations if any;\n",
    "- Import 'SampleID' (or defined by sampleid_key) from each dataset into AnnData object;\n",
    "- Import 'BatchID' (or defined by batch_key) from each dataset into AnnData object;\n",
    "- Import 'Dataset' (or defined by dataset_key) from each dataset into AnnData object;\n",
    "- Import additional meta information (defined by meta_cols) from each dataset into AnnData object;\n",
    "- Delete all pre-existing cell embeddings if any;\n",
    "- Merge all datasets;\n",
    "- Save the merged AnnData object.\n"
   ]
  },
  {
   "cell_type": "code",
   "execution_count": null,
   "metadata": {},
   "outputs": [],
   "source": [
    "adata = merge_datasets(\n",
    "    all_datasets = all_ds,\n",
    "    dir_datasets = dir_datasets,\n",
    "    ref_label = ref_label,\n",
    "    cell_type_key = cell_type_key,\n",
    "    dataset_key = dataset_key,\n",
    "    sampleid_key = sampleid_key,\n",
    "    batch_key = batch_key,\n",
    "    kept_genes = kept_genes,\n",
    "    protein_coding_genes = protein_coding_genes,\n",
    "    add_meta = add_meta,\n",
    "    meta_cols = meta_cols\n",
    ")\n",
    "\n",
    "create_directory(dir_integration)\n",
    "\n",
    "adata.write_h5ad(os.path.join(dir_integration, 'raw_count_before_integration.h5ad'))"
   ]
  }
 ],
 "metadata": {
  "language_info": {
   "name": "python"
  },
  "orig_nbformat": 4
 },
 "nbformat": 4,
 "nbformat_minor": 2
}

{
 "cells": [
  {
   "cell_type": "code",
   "execution_count": null,
   "metadata": {},
   "outputs": [],
   "source": [
    "import pickle\n",
    "import numpy as np\n",
    "import pandas as pd\n",
    "import seaborn as sns\n",
    "import matplotlib.pyplot as plt\n",
    "import scanpy as sc\n",
    "import scrublet as scr"
   ]
  },
  {
   "cell_type": "code",
   "execution_count": null,
   "metadata": {},
   "outputs": [],
   "source": [
    "# Refer to dataset list for IDs\n",
    "DATASET_ID = \"TACA24GSE03\"  # TODO"
   ]
  },
  {
   "cell_type": "code",
   "execution_count": null,
   "metadata": {
    "collapsed": false
   },
   "outputs": [],
   "source": [
    "OUTPUT_PATH = \"../processed/qc2\"\n",
    "EXPORT_PATH = \"../processed/export2\"\n",
    "\n",
    "MITO = set(open(\"../../../Mapping/mito.txt\").read().splitlines())\n",
    "RIBO = set(open(\"../../../Mapping/ribo.txt\").read().splitlines())\n",
    "with open(\"../../../Mapping/MappingGene.pkl\", \"rb\") as f:\n",
    "    MAPPING = pickle.load(f)\n"
   ]
  },
  {
   "cell_type": "code",
   "execution_count": null,
   "metadata": {},
   "outputs": [],
   "source": [
    "# Load dataset\n",
    "from scipy.io import mmread\n",
    "import anndata as ad\n",
    "\n",
    "count = mmread('../raw/count.mtx').tocsr()\n",
    "cell = pd.read_csv('../raw/cell.tsv', sep = \"\\t\", index_col = 0)\n",
    "cell.index = list(cell['cell'])\n",
    "cell.drop(columns = ['cell'], inplace = True)\n",
    "gene = pd.read_csv('../raw/gene.txt', sep = \"\\t\", header = None)\n",
    "gene.rename(columns={0: \"feature_name\"}, inplace = True)\n",
    "gene.index = gene.feature_name\n",
    "\n",
    "adata = ad.AnnData(X=count.T, obs=cell, var=gene)\n",
    "\n",
    "print(\"*Merged*\", adata.shape)\n",
    "SHAPES = [[\"RAW\", *adata.shape], ]\n"
   ]
  },
  {
   "cell_type": "code",
   "execution_count": null,
   "metadata": {},
   "outputs": [],
   "source": [
    "adata"
   ]
  },
  {
   "cell_type": "code",
   "execution_count": null,
   "metadata": {},
   "outputs": [],
   "source": [
    "if adata.raw is not None:\n",
    "    print(\"adata has the 'raw' attribute. Replacing data with 'raw'\")\n",
    "    adata = adata.raw.to_adata()\n",
    "else:\n",
    "    print(\"adata does not have the raw attribute.\")\n",
    "\n",
    "print(\"Please confirm that adata.X currently holds the raw counts!\")\n",
    "print(adata.X)\n"
   ]
  },
  {
   "cell_type": "code",
   "execution_count": null,
   "metadata": {},
   "outputs": [],
   "source": [
    "# Dataset-level filtering if necessary, e.g., Human - Adult - Brain - 10x, etc.\n",
    "# e.g., adata = adata[adata.obs[\"organism\"] == \"Homo sapiens\"]\n",
    "# e.g., adata = adata[adata.obs[\"assay\"] == \"10x 3' v3\"]\n",
    "\n",
    "print(\"No filtering\")  # TODO\n",
    "\n",
    "SHAPES.append([\"DATASET_FILTERING\", *adata.shape])\n"
   ]
  },
  {
   "cell_type": "code",
   "execution_count": null,
   "metadata": {},
   "outputs": [],
   "source": [
    "# Replace with unique sample ID and remove all metadata. Use the same strategy from the metadata pipeline\n",
    "# e.g., adata.obs[\"SampleID\"] = adata.obs[\"donor_id\"] \n",
    "\n",
    "adata.obs[\"SampleID\"] = adata.obs[\"sample\"]  # TODO\n",
    "adata.obs = adata.obs[[\"SampleID\"]]\n",
    "print(\"# of samples:\", adata.obs[\"SampleID\"].nunique())\n",
    "\n",
    "\n",
    "# Rename cell IDs to DatasetID_SampleID_CellID to avoid ID collision\n",
    "adata.obs_names = DATASET_ID + \"_\" + adata.obs[\"SampleID\"].astype(str) + \"_\" + adata.obs_names\n",
    "\n"
   ]
  },
  {
   "cell_type": "code",
   "execution_count": null,
   "metadata": {},
   "outputs": [],
   "source": [
    "print(adata.var_names)"
   ]
  },
  {
   "cell_type": "code",
   "execution_count": null,
   "metadata": {},
   "outputs": [],
   "source": [
    "# TODO change one of the below two variables to True if gene ID conversion to Ensembl is needed\n",
    "is_entrez = False\n",
    "is_symbol = True\n",
    "\n",
    "if is_entrez:\n",
    "    ensembl = [MAPPING[\"H2B\"].get(MAPPING[\"E2H\"].get(v, \"\"), \"\") for v in adata.var_names]\n",
    "elif is_symbol:\n",
    "    ensembl = [MAPPING[\"H2B\"].get(MAPPING[\"S2H\"].get(v, \"\"), \"\") for v in adata.var_names]\n",
    "    \n",
    "if is_entrez or is_symbol:\n",
    "    new_id = []\n",
    "    keep = []\n",
    "    exist = set()\n",
    "    for e in ensembl:\n",
    "        if e and e not in exist:\n",
    "            new_id.append(e)\n",
    "            exist.add(e)\n",
    "            keep.append(True)\n",
    "        else:\n",
    "            keep.append(False)\n",
    "    adata = adata[:, keep]\n",
    "    adata.var_names = new_id\n",
    "    print(f\"Mapped {len(exist)}/{len(keep)} genes\")  # If the ratio of the mapped gene is too low, consider using \"A2H\" instead of \"S2H\"\n",
    "else:\n",
    "    print(\"No gene ID conversion is done\")\n",
    "\n",
    "SHAPES.append([\"GENEID_MAPPING\", *adata.shape])\n"
   ]
  },
  {
   "cell_type": "code",
   "execution_count": null,
   "metadata": {},
   "outputs": [],
   "source": [
    "# Calculate QC metrics\n",
    "adata.var[\"mt\"] = [v in MITO for v in adata.var_names]\n",
    "adata.var[\"rb\"] = [v in RIBO for v in adata.var_names]\n",
    "\n",
    "print(\"# Mito genes: \", adata.var[\"mt\"].sum())\n",
    "print(\"# Ribo genes: \", adata.var[\"rb\"].sum())\n",
    "\n",
    "sc.pp.calculate_qc_metrics(adata, qc_vars=[\"mt\", \"rb\"], percent_top=None, log1p=False, inplace=True)\n"
   ]
  },
  {
   "cell_type": "code",
   "execution_count": null,
   "metadata": {},
   "outputs": [],
   "source": [
    "# Let Barcode Rank Plot tell us whether ambient RNA removal needs to be done\n",
    "nUMI = pd.DataFrame(adata.obs[\"total_counts\"])\n",
    "nUMI_sorted = nUMI.sort_values(by=\"total_counts\", ascending=False)\n",
    "nUMI_sorted[\"rank\"] = range(1, len(nUMI_sorted) + 1)\n",
    "plt.figure(figsize=(5, 4))\n",
    "plt.loglog(nUMI_sorted[\"rank\"], nUMI_sorted[\"total_counts\"])\n",
    "plt.title(\"Barcode Rank Plot\")\n",
    "plt.xlabel(\"Barcodes (ranked)\")\n",
    "plt.ylabel(\"UMI counts\")\n",
    "plt.savefig(f\"{OUTPUT_PATH}/QC_Barcode_Rank_Plot.svg\")\n",
    "plt.show()\n"
   ]
  },
  {
   "cell_type": "code",
   "execution_count": null,
   "metadata": {
    "collapsed": false
   },
   "outputs": [],
   "source": [
    "# Plot before QC\n",
    "sc.pl.scatter(adata, x=\"total_counts\", y=\"pct_counts_mt\", size = 0.5)\n",
    "# plt.savefig(f\"{OUTPUT_PATH}/QC_01.svg\")\n",
    "plt.savefig(f\"{OUTPUT_PATH}/QC_01.png\")\n",
    "plt.close()\n",
    "\n",
    "sc.pl.scatter(adata, x=\"total_counts\", y=\"n_genes_by_counts\", size = 0.5)\n",
    "# plt.savefig(f\"{OUTPUT_PATH}/QC_02.svg\")\n",
    "plt.savefig(f\"{OUTPUT_PATH}/QC_02.png\")\n",
    "plt.close()\n",
    "\n",
    "sns.histplot(adata.obs[\"pct_counts_mt\"], stat = \"percent\")\n",
    "# plt.show()\n",
    "# plt.savefig(f\"{OUTPUT_PATH}/QC_03.svg\")\n",
    "plt.savefig(f\"{OUTPUT_PATH}/QC_03.png\")\n",
    "plt.close()\n",
    "\n",
    "sns.histplot(adata.obs[\"pct_counts_rb\"], stat = \"percent\")\n",
    "# plt.show()\n",
    "# plt.savefig(f\"{OUTPUT_PATH}/QC_04.svg\")\n",
    "plt.savefig(f\"{OUTPUT_PATH}/QC_04_percent.png\")\n",
    "plt.close()\n"
   ]
  },
  {
   "cell_type": "code",
   "execution_count": null,
   "metadata": {},
   "outputs": [],
   "source": [
    "# Universal QC\n",
    "QCs = [\n",
    "    adata.var[\"n_cells_by_counts\"] >= 10,\n",
    "    adata.obs[\"n_genes_by_counts\"] >= 200,\n",
    "    adata.obs[\"total_counts\"] > 500,\n",
    "]\n",
    "QC_ROW_PASS = np.ones(adata.shape[0], dtype=bool) & QCs[1] & QCs[2]\n",
    "QC_COL_PASS = np.ones(adata.shape[1], dtype=bool) & QCs[0]\n",
    "\n",
    "SHAPES.append([\"QC_1_PASS\", QC_ROW_PASS.sum(), QC_COL_PASS.sum()])\n",
    "SHAPES.append([\"  MIN_CELLS>=10\", \"-\", QCs[0].sum()])\n",
    "SHAPES.append([\"  MIN_GENES>=200\", QCs[1].sum(), \"-\"])\n",
    "SHAPES.append([\"  TOTAL_COUNTS>500\", QCs[2].sum(), \"-\"])\n",
    "\n",
    "adata = adata[QC_ROW_PASS, :][:, QC_COL_PASS]\n"
   ]
  },
  {
   "cell_type": "code",
   "execution_count": null,
   "metadata": {},
   "outputs": [],
   "source": [
    "SHAPES"
   ]
  },
  {
   "cell_type": "code",
   "execution_count": null,
   "metadata": {},
   "outputs": [],
   "source": [
    "# Adaptive QC\n",
    "QCs = []\n",
    "for field in (\"total_counts\", \"n_genes_by_counts\"):\n",
    "    values = adata.obs[field]\n",
    "    q75, q25 = np.percentile(values, [75, 25])\n",
    "    lower_co = q25 - 3 * (q75 - q25)\n",
    "    upper_co = q75 + 3 * (q75 - q25)\n",
    "    QCs.append((values > lower_co) & (values < upper_co))\n",
    "    print(f\"Threshold for {field}: {lower_co} < x < {upper_co}\")\n",
    "\n",
    "for field, threshold in (\n",
    "        (\"pct_counts_mt\", 10),\n",
    "        (\"pct_counts_rb\", 20)\n",
    "):\n",
    "    values = adata.obs[field]\n",
    "    q75, q25 = np.percentile(values, [75, 25])\n",
    "    upper_co = q75 + 3 * (q75 - q25)\n",
    "    QCs.append(values < max(upper_co, threshold))\n",
    "    print(f\"Threshold for {field}: x < {max(upper_co, threshold)}\")\n",
    "\n",
    "QC_PASS = np.ones(adata.shape[0], dtype=bool) & QCs[0] & QCs[1] & QCs[2] & QCs[3]\n",
    "\n",
    "SHAPES.append([\"QC_2_PASS\", QC_PASS.sum(), \"-\"])\n",
    "SHAPES.append([\"  TOTAL_COUNTS<3IQR\", QCs[0].sum(), \"-\"])\n",
    "SHAPES.append([\"  N_GENES_BY_COUNTS<3IQR\", QCs[1].sum(), \"-\"])\n",
    "SHAPES.append([\"  MT_PERCENT<3IQR\", QCs[2].sum(), \"-\"])\n",
    "SHAPES.append([\"  RB_PERCENT<3IQR\", QCs[3].sum(), \"-\"])\n",
    "\n",
    "adata = adata[QC_PASS]\n"
   ]
  },
  {
   "cell_type": "code",
   "execution_count": null,
   "metadata": {
    "collapsed": false
   },
   "outputs": [],
   "source": [
    "SHAPES"
   ]
  },
  {
   "cell_type": "code",
   "execution_count": null,
   "metadata": {},
   "outputs": [],
   "source": [
    "# Doublet detection\n",
    "datasets = []\n",
    "for sample in adata.obs[\"SampleID\"].unique():\n",
    "    sample_adata = adata[adata.obs[\"SampleID\"] == sample].copy()\n",
    "    expected = sample_adata.shape[0] / 1000 * 0.008\n",
    "    print(\"Expected doublet rate for sample:\", sample, expected)\n",
    "    scrub = scr.Scrublet(sample_adata.X, expected_doublet_rate=expected)\n",
    "    sample_adata.obs[\"doublet_scores\"], sample_adata.obs[\"predicted_doublets\"] = scrub.scrub_doublets(n_prin_comps=30)\n",
    "    scrub.plot_histogram()\n",
    "    plt.savefig(f\"{OUTPUT_PATH}/{sample}_scrublet.svg\")\n",
    "    plt.close()\n",
    "    datasets.append(sample_adata)\n"
   ]
  },
  {
   "cell_type": "code",
   "execution_count": null,
   "metadata": {},
   "outputs": [],
   "source": [
    "# Doublet removal\n",
    "adata = sc.concat(datasets, merge=\"unique\")\n",
    "adata = adata[adata.obs[\"predicted_doublets\"] == False]\n",
    "adata.obs.drop(\"predicted_doublets\", axis=1, inplace=True)  # To avoid a potential TypeError\n",
    "\n",
    "SHAPES.append([\"DOUBLET\", adata.shape[0], \"-\"])\n"
   ]
  },
  {
   "cell_type": "code",
   "execution_count": null,
   "metadata": {
    "collapsed": false
   },
   "outputs": [],
   "source": [
    "SHAPES"
   ]
  },
  {
   "cell_type": "code",
   "execution_count": null,
   "metadata": {
    "collapsed": false
   },
   "outputs": [],
   "source": [
    "# Plot after QC\n",
    "sc.pl.scatter(adata, x=\"total_counts\", y=\"pct_counts_mt\", show=False)\n",
    "# plt.savefig(f\"{OUTPUT_PATH}/QC_11.svg\")\n",
    "plt.savefig(f\"{OUTPUT_PATH}/QC_11.png\")\n",
    "plt.close()\n",
    "\n",
    "sc.pl.scatter(adata, x=\"total_counts\", y=\"n_genes_by_counts\", show=False)\n",
    "# plt.savefig(f\"{OUTPUT_PATH}/QC_12.svg\")\n",
    "plt.savefig(f\"{OUTPUT_PATH}/QC_12.png\")\n",
    "plt.close()\n",
    "\n",
    "sns.histplot(adata.obs[\"pct_counts_mt\"])\n",
    "# plt.show()\n",
    "# plt.savefig(f\"{OUTPUT_PATH}/QC_13.svg\")\n",
    "plt.savefig(f\"{OUTPUT_PATH}/QC_13.png\")\n",
    "plt.close()\n",
    "\n",
    "sns.histplot(adata.obs[\"pct_counts_rb\"])\n",
    "# plt.show()\n",
    "# plt.savefig(f\"{OUTPUT_PATH}/QC_14.svg\")\n",
    "plt.savefig(f\"{OUTPUT_PATH}/QC_14.png\")\n",
    "plt.close()\n"
   ]
  },
  {
   "cell_type": "code",
   "execution_count": null,
   "metadata": {},
   "outputs": [],
   "source": [
    "# Output\n",
    "SHAPES.append([\"FINAL\", *adata.shape])\n",
    "\n",
    "with open(f\"{OUTPUT_PATH}/QC.log\", \"w\") as fo:\n",
    "    for i, j, k in SHAPES:\n",
    "        fo.write(f\"{i}\\t{j}\\t{k}\\n\")\n",
    "\n",
    "with open(f\"{EXPORT_PATH}/genes.txt\", \"w\") as fo:\n",
    "    fo.write(\"\\n\".join(adata.var_names))\n",
    "\n",
    "adata.write_h5ad(f\"{EXPORT_PATH}/adata.h5ad\")  # Count only\n",
    "\n",
    "\n",
    "# Choose UMAP or tSNE depend on the original paper and data availability\n",
    "# DIM_METHOD = \"tSNE\"  # TODO UMAP or tSNE\n",
    "\n",
    "# X_dim = pd.DataFrame(adata.obsm[\"X_\" + DIM_METHOD], index=adata.obs_names)\n",
    "# X_dim.columns = [DIM_METHOD + \"_1\", DIM_METHOD + \"_2\"]\n",
    "X_dim = adata.obs[[\"SampleID\"]]\n",
    "X_dim.to_csv(f\"{EXPORT_PATH}/cell.tsv\", sep=\"\\t\")\n",
    "\n",
    "# Export normalized count for certain downstream analyses\n",
    "sc.pp.normalize_total(adata)\n",
    "sc.pp.log1p(adata)\n",
    "\n",
    "from scipy import sparse, io\n",
    "\n",
    "io.mmwrite(f\"{EXPORT_PATH}/data.mtx\", sparse.csr_matrix(adata.X))  # Normalized count, aka, \"data\"\n"
   ]
  }
 ],
 "metadata": {
  "kernelspec": {
   "display_name": "mebCell",
   "language": "python",
   "name": "python3"
  },
  "language_info": {
   "codemirror_mode": {
    "name": "ipython",
    "version": 3
   },
   "file_extension": ".py",
   "mimetype": "text/x-python",
   "name": "python",
   "nbconvert_exporter": "python",
   "pygments_lexer": "ipython3",
   "version": "3.11.8"
  }
 },
 "nbformat": 4,
 "nbformat_minor": 2
}
